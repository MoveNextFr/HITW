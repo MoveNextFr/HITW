{
 "nbformat": 4,
 "nbformat_minor": 0,
 "metadata": {
  "colab": {
   "name": "HITW_FASTAI_TRAIN",
   "provenance": [],
   "collapsed_sections": []
  },
  "kernelspec": {
   "name": "python3",
   "display_name": "Python 3"
  },
  "language_info": {
   "name": "python"
  }
 },
 "cells": [
  {
   "cell_type": "code",
   "source": [
    "!pip install -q jmd_imagescraper\n",
    "!pip install -Uqq fastbook"
   ],
   "metadata": {
    "id": "Q7thrfOzOzf2",
    "pycharm": {
     "name": "#%%\n"
    }
   },
   "execution_count": null,
   "outputs": []
  },
  {
   "cell_type": "code",
   "source": [
    "import fastbook\n",
    "from fastbook import *\n",
    "from fastai.vision.widgets import *\n",
    "from pathlib import Path\n",
    "from jmd_imagescraper.core import *"
   ],
   "metadata": {
    "id": "cqd1aYbRO_Gv",
    "pycharm": {
     "name": "#%%\n"
    }
   },
   "execution_count": null,
   "outputs": []
  },
  {
   "cell_type": "code",
   "source": [
    "!rm -rf /content/plants"
   ],
   "metadata": {
    "id": "koUyiEWISlKV",
    "pycharm": {
     "name": "#%%\n"
    }
   },
   "execution_count": null,
   "outputs": []
  },
  {
   "cell_type": "code",
   "source": [
    "root = \"/content/plants\"\n",
    "duckduckgo_search(root, \"dionaea\", \"dionaea\", max_results=100)\n",
    "duckduckgo_search(root, \"drosera\", \"drosera\", max_results=100)\n",
    "duckduckgo_search(root, \"nepenthes\", \"nepenthes\", max_results=100)\n",
    "duckduckgo_search(root, \"random\", \"random images\", max_results=100)"
   ],
   "metadata": {
    "id": "usx2L5VJZyK3",
    "pycharm": {
     "name": "#%%\n"
    }
   },
   "execution_count": null,
   "outputs": []
  },
  {
   "cell_type": "code",
   "execution_count": null,
   "metadata": {
    "id": "3VBVWuHYDv38",
    "pycharm": {
     "name": "#%%\n"
    }
   },
   "outputs": [],
   "source": [
    "path = Path('plants')\n",
    "fns = get_image_files(path)"
   ]
  },
  {
   "cell_type": "code",
   "source": [
    "failed = verify_images(fns)\n",
    "failed.map(Path.unlink);"
   ],
   "metadata": {
    "id": "8jOQlzwCSDbG",
    "pycharm": {
     "name": "#%%\n"
    }
   },
   "execution_count": null,
   "outputs": []
  },
  {
   "cell_type": "code",
   "source": [
    "plants = DataBlock(\n",
    "    blocks=(ImageBlock, CategoryBlock), \n",
    "    get_items=get_image_files, \n",
    "    splitter=RandomSplitter(valid_pct=0.2, seed=1),\n",
    "    get_y=parent_label,\n",
    "    item_tfms=Resize(128))\n",
    "    \n",
    "dls = plants.dataloaders(path)"
   ],
   "metadata": {
    "id": "OC6jbq0ZSJcT",
    "pycharm": {
     "name": "#%%\n"
    }
   },
   "execution_count": null,
   "outputs": []
  },
  {
   "cell_type": "code",
   "source": [
    "dls.valid.show_batch(max_n=10, nrows=2)"
   ],
   "metadata": {
    "colab": {
     "base_uri": "https://localhost:8080/",
     "height": 370
    },
    "id": "r458CisqSMqM",
    "outputId": "1f1a6333-15f2-4caa-9682-2f5fbf4922a8",
    "pycharm": {
     "name": "#%%\n"
    }
   },
   "execution_count": null,
   "outputs": []
  },
  {
   "cell_type": "code",
   "source": [
    "plants = plants.new(item_tfms=RandomResizedCrop(128, min_scale=0.3))\n",
    "dls = plants.dataloaders(path)\n",
    "dls.train.show_batch(max_n=4, nrows=1, unique=True)"
   ],
   "metadata": {
    "colab": {
     "base_uri": "https://localhost:8080/",
     "height": 193
    },
    "id": "5DptXAXYS7Dh",
    "outputId": "2bbb2763-6847-46db-e628-c557136fe103",
    "pycharm": {
     "name": "#%%\n"
    }
   },
   "execution_count": null,
   "outputs": []
  },
  {
   "cell_type": "code",
   "source": [
    "plants = plants.new(item_tfms=Resize(128), batch_tfms=aug_transforms(max_lighting=0.6,max_rotate=180))\n",
    "dls = plants.dataloaders(path)\n",
    "dls.train.show_batch(max_n=8, nrows=2, unique=True)"
   ],
   "metadata": {
    "colab": {
     "base_uri": "https://localhost:8080/",
     "height": 371
    },
    "id": "Uh0nIG-jTFHg",
    "outputId": "9e6542c4-6c4e-41e5-e59f-8baa0361ec67",
    "pycharm": {
     "name": "#%%\n"
    }
   },
   "execution_count": null,
   "outputs": []
  },
  {
   "cell_type": "code",
   "source": [
    "plants = plants.new(\n",
    "    item_tfms=RandomResizedCrop(224, min_scale=0.5),\n",
    "    batch_tfms=aug_transforms(max_lighting=0.6,max_rotate=180))\n",
    "dls = plants.dataloaders(path)"
   ],
   "metadata": {
    "id": "4eDe6EHyTL92",
    "pycharm": {
     "name": "#%%\n"
    }
   },
   "execution_count": null,
   "outputs": []
  },
  {
   "cell_type": "code",
   "source": [],
   "metadata": {
    "id": "VZ7EXmoWkYjC",
    "pycharm": {
     "name": "#%%\n"
    }
   },
   "execution_count": null,
   "outputs": []
  },
  {
   "cell_type": "code",
   "source": [
    "learn = cnn_learner(dls, resnet18, metrics=error_rate)\n",
    "learn.fine_tune(4)"
   ],
   "metadata": {
    "colab": {
     "base_uri": "https://localhost:8080/",
     "height": 275
    },
    "id": "EzVCy4KCTgCE",
    "outputId": "f8450da4-f83f-4e49-d958-7bd9c27b3e10",
    "pycharm": {
     "name": "#%%\n"
    }
   },
   "execution_count": null,
   "outputs": []
  },
  {
   "cell_type": "code",
   "source": [
    "interp = ClassificationInterpretation.from_learner(learn)\n",
    "interp.plot_confusion_matrix()"
   ],
   "metadata": {
    "colab": {
     "base_uri": "https://localhost:8080/",
     "height": 310
    },
    "id": "t9fSbpMFTkfi",
    "outputId": "1f2b57fa-ae87-49be-88cd-388fae1a09dc",
    "pycharm": {
     "name": "#%%\n"
    }
   },
   "execution_count": null,
   "outputs": []
  },
  {
   "cell_type": "markdown",
   "source": [],
   "metadata": {
    "id": "hu1MJMlRktvO",
    "pycharm": {
     "name": "#%% md\n"
    }
   }
  },
  {
   "cell_type": "code",
   "source": [
    "interp.plot_top_losses(10, nrows=2)"
   ],
   "metadata": {
    "colab": {
     "base_uri": "https://localhost:8080/",
     "height": 400
    },
    "id": "2jaAfN8fTmIG",
    "outputId": "05e95032-2463-4d8a-9d30-abeb70180af6",
    "pycharm": {
     "name": "#%%\n"
    }
   },
   "execution_count": null,
   "outputs": []
  },
  {
   "cell_type": "code",
   "source": [
    "learn.export('model.pkl')"
   ],
   "metadata": {
    "id": "snZxc8lrTuRD",
    "pycharm": {
     "name": "#%%\n"
    }
   },
   "execution_count": null,
   "outputs": []
  }
 ]
}