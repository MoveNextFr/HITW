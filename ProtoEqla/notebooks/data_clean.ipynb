{
 "cells": [
  {
   "cell_type": "code",
   "execution_count": 1,
   "metadata": {
    "collapsed": true,
    "pycharm": {
     "name": "#%%\n"
    }
   },
   "outputs": [],
   "source": [
    "from PIL import Image"
   ]
  },
  {
   "cell_type": "code",
   "execution_count": 2,
   "outputs": [],
   "source": [
    "images = [\"IMG_6077.jpg\", \"IMG_6078.jpg\", \"IMG_6079.jpg\"]\n",
    "\n",
    "for fp in images:\n",
    "    img = Image.open(\"../data/\" + fp)\n",
    "    new_width = 1080\n",
    "    new_height = new_width * img.height / img.width\n",
    "    img.thumbnail((new_width,new_height),Image.ANTIALIAS)\n",
    "    img.save(\"../data/small_\"+fp, quality=100, subsampling=0)"
   ],
   "metadata": {
    "collapsed": false,
    "pycharm": {
     "name": "#%%\n"
    }
   }
  }
 ],
 "metadata": {
  "kernelspec": {
   "display_name": "Python 3",
   "language": "python",
   "name": "python3"
  },
  "language_info": {
   "codemirror_mode": {
    "name": "ipython",
    "version": 2
   },
   "file_extension": ".py",
   "mimetype": "text/x-python",
   "name": "python",
   "nbconvert_exporter": "python",
   "pygments_lexer": "ipython2",
   "version": "2.7.6"
  }
 },
 "nbformat": 4,
 "nbformat_minor": 0
}