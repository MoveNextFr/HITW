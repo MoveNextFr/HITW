{
 "cells": [
  {
   "cell_type": "code",
   "execution_count": 1,
   "metadata": {
    "pycharm": {
     "is_executing": true,
     "name": "#%%\n"
    }
   },
   "outputs": [],
   "source": [
    "import fastprogress\n",
    "import pandas as pd\n",
    "from fastai.vision.all import *\n",
    "from fastai.learner import *\n",
    "import os\n",
    "from pathlib import Path\n",
    "from IPython.display import clear_output"
   ]
  },
  {
   "cell_type": "markdown",
   "metadata": {
    "pycharm": {
     "name": "#%% md\n"
    }
   },
   "source": [
    "# Setup"
   ]
  },
  {
   "cell_type": "code",
   "execution_count": 2,
   "metadata": {
    "pycharm": {
     "name": "#%%\n"
    }
   },
   "outputs": [],
   "source": [
    "df = pd.read_csv(\"../data/test_labels.csv\")\n",
    "df[\"FILE_PATH\"] = df.apply(lambda row: f\"\"\"../data/test_features/{row[\"FILE_NAME\"]}\"\"\", axis=1)"
   ]
  },
  {
   "cell_type": "code",
   "execution_count": 3,
   "metadata": {
    "pycharm": {
     "name": "#%%\n"
    }
   },
   "outputs": [],
   "source": [
    "def get_label_from_df(s):\n",
    "    return \"\"\n",
    "\n",
    "learner = load_learner(Path()/\"models/model-stage11_.pkl\",cpu=False)"
   ]
  },
  {
   "cell_type": "markdown",
   "metadata": {
    "pycharm": {
     "name": "#%% md\n"
    }
   },
   "source": [
    "# Predict on validation dataset"
   ]
  },
  {
   "cell_type": "code",
   "execution_count": 4,
   "metadata": {
    "pycharm": {
     "name": "#%%\n"
    }
   },
   "outputs": [],
   "source": [
    "def predict(l, fp):\n",
    "    prediction = l.predict(Path(fp))\n",
    "    item_idx = prediction[1]\n",
    "    return prediction[0], prediction[2][item_idx]"
   ]
  },
  {
   "cell_type": "code",
   "execution_count": null,
   "outputs": [],
   "source": [
    "df_predict = df.copy(deep=True)\n",
    "df_predict = df_predict[[\"FILE_PATH\",\"EXPECTED_CLASS\"]]\n",
    "df_predict[\"PREDICTED_CLASS\"], df_predict[\"CONFIDENCE\"] = zip(*df_predict[\"FILE_PATH\"].apply(lambda fp: predict(learner, fp)))\n",
    "clear_output()"
   ],
   "metadata": {
    "collapsed": false,
    "pycharm": {
     "name": "#%%\n"
    }
   }
  },
  {
   "cell_type": "markdown",
   "source": [
    "# Compute Metrics"
   ],
   "metadata": {
    "collapsed": false,
    "pycharm": {
     "name": "#%% md\n"
    }
   }
  },
  {
   "cell_type": "code",
   "execution_count": null,
   "outputs": [],
   "source": [
    "df_predict[\"SUCCESS\"] = (df_predict[\"EXPECTED_CLASS\"]==df_predict[\"PREDICTED_CLASS\"])\n",
    "total_samples = len(df_predict)\n",
    "success = len(df_predict[df_predict[\"SUCCESS\"]==True])\n",
    "accuracy = success / total_samples\n",
    "print(f\"Accuracy: {accuracy}\")\n",
    "print(f\"Test sample size: {total_samples} images\")"
   ],
   "metadata": {
    "collapsed": false,
    "pycharm": {
     "name": "#%%\n"
    }
   }
  },
  {
   "cell_type": "markdown",
   "source": [
    "## Failed predictions"
   ],
   "metadata": {
    "collapsed": false,
    "pycharm": {
     "name": "#%% md\n"
    }
   }
  },
  {
   "cell_type": "code",
   "execution_count": null,
   "outputs": [],
   "source": [
    "df_predict[df_predict[\"SUCCESS\"]==False]"
   ],
   "metadata": {
    "collapsed": false,
    "pycharm": {
     "name": "#%%\n"
    }
   }
  },
  {
   "cell_type": "markdown",
   "source": [
    "## Demo"
   ],
   "metadata": {
    "collapsed": false,
    "pycharm": {
     "name": "#%% md\n"
    }
   }
  },
  {
   "cell_type": "code",
   "execution_count": null,
   "outputs": [],
   "source": [
    "import matplotlib.pyplot as plt\n",
    "import matplotlib.image as mpimg\n",
    "\n",
    "random_state = 42\n",
    "expected_labels = df_predict[\"EXPECTED_CLASS\"].unique().tolist()\n",
    "fig, axes = plt.subplots(nrows=4, ncols=1, figsize=(40, 40))\n",
    "for expected, ax in zip(expected_labels, axes.flat):\n",
    "    random_sample = df_predict[df_predict[\"EXPECTED_CLASS\"]==expected].sample(1)\n",
    "    sample_path=random_sample[\"FILE_PATH\"].values[0]\n",
    "    predicted=random_sample[\"PREDICTED_CLASS\"].values[0]\n",
    "    confidence=random_sample[\"CONFIDENCE\"].values[0].item()\n",
    "    img = mpimg.imread(sample_path)\n",
    "    ax.imshow(img)\n",
    "    ax.set_title(f\"Expected : {expected} | Predicted : {predicted} | CONFIDENCE: {confidence}\", fontsize=\"18\")"
   ],
   "metadata": {
    "collapsed": false,
    "pycharm": {
     "name": "#%%\n"
    }
   }
  },
  {
   "cell_type": "code",
   "execution_count": null,
   "metadata": {},
   "outputs": [],
   "source": []
  }
 ],
 "metadata": {
  "kernelspec": {
   "display_name": "Python 3 (ipykernel)",
   "language": "python",
   "name": "python3"
  },
  "language_info": {
   "codemirror_mode": {
    "name": "ipython",
    "version": 3
   },
   "file_extension": ".py",
   "mimetype": "text/x-python",
   "name": "python",
   "nbconvert_exporter": "python",
   "pygments_lexer": "ipython3",
   "version": "3.9.7"
  }
 },
 "nbformat": 4,
 "nbformat_minor": 1
}